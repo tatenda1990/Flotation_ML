{
 "cells": [
  {
   "cell_type": "code",
   "execution_count": 37,
   "id": "61933a5a",
   "metadata": {},
   "outputs": [],
   "source": [
    "import pandas as pd\n",
    "import seaborn as sns\n",
    "import matplotlib.pyplot as plt"
   ]
  },
  {
   "cell_type": "markdown",
   "id": "6d4712b9",
   "metadata": {},
   "source": [
    "# Load data from the working folder\n",
    "data is labelled data.csv"
   ]
  },
  {
   "cell_type": "code",
   "execution_count": 38,
   "id": "5ecec592",
   "metadata": {},
   "outputs": [],
   "source": [
    "df = pd.read_csv(\"data.csv\", parse_dates= [\"Timestamp\"]) #read the csv file into a pandas dataframe"
   ]
  },
  {
   "cell_type": "code",
   "execution_count": 39,
   "id": "006602cb",
   "metadata": {},
   "outputs": [
    {
     "data": {
      "text/html": [
       "<div>\n",
       "<style scoped>\n",
       "    .dataframe tbody tr th:only-of-type {\n",
       "        vertical-align: middle;\n",
       "    }\n",
       "\n",
       "    .dataframe tbody tr th {\n",
       "        vertical-align: top;\n",
       "    }\n",
       "\n",
       "    .dataframe thead th {\n",
       "        text-align: right;\n",
       "    }\n",
       "</style>\n",
       "<table border=\"1\" class=\"dataframe\">\n",
       "  <thead>\n",
       "    <tr style=\"text-align: right;\">\n",
       "      <th></th>\n",
       "      <th>Timestamp</th>\n",
       "      <th>feed_flowrate</th>\n",
       "      <th>level</th>\n",
       "      <th>air_flowrate</th>\n",
       "      <th>valve</th>\n",
       "      <th>fault1</th>\n",
       "      <th>fault2</th>\n",
       "    </tr>\n",
       "  </thead>\n",
       "  <tbody>\n",
       "    <tr>\n",
       "      <th>0</th>\n",
       "      <td>2021-08-02 09:58:50</td>\n",
       "      <td>149.175000</td>\n",
       "      <td>76.186249</td>\n",
       "      <td>17.190749</td>\n",
       "      <td>1.111165</td>\n",
       "      <td>0</td>\n",
       "      <td>0</td>\n",
       "    </tr>\n",
       "    <tr>\n",
       "      <th>1</th>\n",
       "      <td>2021-08-02 09:58:55</td>\n",
       "      <td>149.429144</td>\n",
       "      <td>77.691251</td>\n",
       "      <td>17.347500</td>\n",
       "      <td>2.240384</td>\n",
       "      <td>0</td>\n",
       "      <td>0</td>\n",
       "    </tr>\n",
       "    <tr>\n",
       "      <th>2</th>\n",
       "      <td>2021-08-02 09:59:00</td>\n",
       "      <td>149.575165</td>\n",
       "      <td>78.826248</td>\n",
       "      <td>17.347500</td>\n",
       "      <td>2.886613</td>\n",
       "      <td>0</td>\n",
       "      <td>0</td>\n",
       "    </tr>\n",
       "    <tr>\n",
       "      <th>3</th>\n",
       "      <td>2021-08-02 09:59:05</td>\n",
       "      <td>149.440030</td>\n",
       "      <td>79.413750</td>\n",
       "      <td>17.347500</td>\n",
       "      <td>3.255154</td>\n",
       "      <td>0</td>\n",
       "      <td>0</td>\n",
       "    </tr>\n",
       "    <tr>\n",
       "      <th>4</th>\n",
       "      <td>2021-08-02 09:59:10</td>\n",
       "      <td>149.472055</td>\n",
       "      <td>80.506250</td>\n",
       "      <td>17.356125</td>\n",
       "      <td>3.980078</td>\n",
       "      <td>0</td>\n",
       "      <td>0</td>\n",
       "    </tr>\n",
       "    <tr>\n",
       "      <th>5</th>\n",
       "      <td>2021-08-02 09:59:15</td>\n",
       "      <td>149.575641</td>\n",
       "      <td>82.287498</td>\n",
       "      <td>17.328000</td>\n",
       "      <td>5.611198</td>\n",
       "      <td>0</td>\n",
       "      <td>0</td>\n",
       "    </tr>\n",
       "    <tr>\n",
       "      <th>6</th>\n",
       "      <td>2021-08-02 09:59:20</td>\n",
       "      <td>149.507553</td>\n",
       "      <td>83.001251</td>\n",
       "      <td>17.317125</td>\n",
       "      <td>6.024781</td>\n",
       "      <td>0</td>\n",
       "      <td>0</td>\n",
       "    </tr>\n",
       "    <tr>\n",
       "      <th>7</th>\n",
       "      <td>2021-08-02 09:59:25</td>\n",
       "      <td>149.448965</td>\n",
       "      <td>84.032498</td>\n",
       "      <td>17.269125</td>\n",
       "      <td>7.061505</td>\n",
       "      <td>0</td>\n",
       "      <td>0</td>\n",
       "    </tr>\n",
       "    <tr>\n",
       "      <th>8</th>\n",
       "      <td>2021-08-02 09:59:30</td>\n",
       "      <td>149.415601</td>\n",
       "      <td>84.322501</td>\n",
       "      <td>17.329500</td>\n",
       "      <td>7.176516</td>\n",
       "      <td>0</td>\n",
       "      <td>0</td>\n",
       "    </tr>\n",
       "    <tr>\n",
       "      <th>9</th>\n",
       "      <td>2021-08-02 09:59:35</td>\n",
       "      <td>149.377209</td>\n",
       "      <td>85.414998</td>\n",
       "      <td>17.479875</td>\n",
       "      <td>8.326157</td>\n",
       "      <td>0</td>\n",
       "      <td>0</td>\n",
       "    </tr>\n",
       "  </tbody>\n",
       "</table>\n",
       "</div>"
      ],
      "text/plain": [
       "            Timestamp  feed_flowrate      level  air_flowrate     valve  \\\n",
       "0 2021-08-02 09:58:50     149.175000  76.186249     17.190749  1.111165   \n",
       "1 2021-08-02 09:58:55     149.429144  77.691251     17.347500  2.240384   \n",
       "2 2021-08-02 09:59:00     149.575165  78.826248     17.347500  2.886613   \n",
       "3 2021-08-02 09:59:05     149.440030  79.413750     17.347500  3.255154   \n",
       "4 2021-08-02 09:59:10     149.472055  80.506250     17.356125  3.980078   \n",
       "5 2021-08-02 09:59:15     149.575641  82.287498     17.328000  5.611198   \n",
       "6 2021-08-02 09:59:20     149.507553  83.001251     17.317125  6.024781   \n",
       "7 2021-08-02 09:59:25     149.448965  84.032498     17.269125  7.061505   \n",
       "8 2021-08-02 09:59:30     149.415601  84.322501     17.329500  7.176516   \n",
       "9 2021-08-02 09:59:35     149.377209  85.414998     17.479875  8.326157   \n",
       "\n",
       "   fault1  fault2  \n",
       "0       0       0  \n",
       "1       0       0  \n",
       "2       0       0  \n",
       "3       0       0  \n",
       "4       0       0  \n",
       "5       0       0  \n",
       "6       0       0  \n",
       "7       0       0  \n",
       "8       0       0  \n",
       "9       0       0  "
      ]
     },
     "execution_count": 39,
     "metadata": {},
     "output_type": "execute_result"
    }
   ],
   "source": [
    "df.head(10) #confirm data was loaded"
   ]
  },
  {
   "cell_type": "code",
   "execution_count": 40,
   "id": "8b499dc9",
   "metadata": {},
   "outputs": [
    {
     "name": "stdout",
     "output_type": "stream",
     "text": [
      "<class 'pandas.core.frame.DataFrame'>\n",
      "RangeIndex: 114986 entries, 0 to 114985\n",
      "Data columns (total 7 columns):\n",
      " #   Column         Non-Null Count   Dtype         \n",
      "---  ------         --------------   -----         \n",
      " 0   Timestamp      114986 non-null  datetime64[ns]\n",
      " 1   feed_flowrate  114986 non-null  float64       \n",
      " 2   level          114986 non-null  float64       \n",
      " 3   air_flowrate   114986 non-null  float64       \n",
      " 4   valve          114986 non-null  float64       \n",
      " 5   fault1         114986 non-null  int64         \n",
      " 6   fault2         114986 non-null  int64         \n",
      "dtypes: datetime64[ns](1), float64(4), int64(2)\n",
      "memory usage: 6.1 MB\n"
     ]
    }
   ],
   "source": [
    "df.info() #check data types + missing values"
   ]
  },
  {
   "cell_type": "code",
   "execution_count": 41,
   "id": "92f364b4",
   "metadata": {},
   "outputs": [
    {
     "data": {
      "text/html": [
       "<div>\n",
       "<style scoped>\n",
       "    .dataframe tbody tr th:only-of-type {\n",
       "        vertical-align: middle;\n",
       "    }\n",
       "\n",
       "    .dataframe tbody tr th {\n",
       "        vertical-align: top;\n",
       "    }\n",
       "\n",
       "    .dataframe thead th {\n",
       "        text-align: right;\n",
       "    }\n",
       "</style>\n",
       "<table border=\"1\" class=\"dataframe\">\n",
       "  <thead>\n",
       "    <tr style=\"text-align: right;\">\n",
       "      <th></th>\n",
       "      <th>feed_flowrate</th>\n",
       "      <th>level</th>\n",
       "      <th>air_flowrate</th>\n",
       "      <th>valve</th>\n",
       "      <th>fault1</th>\n",
       "      <th>fault2</th>\n",
       "    </tr>\n",
       "  </thead>\n",
       "  <tbody>\n",
       "    <tr>\n",
       "      <th>count</th>\n",
       "      <td>114986.000000</td>\n",
       "      <td>114986.000000</td>\n",
       "      <td>114986.000000</td>\n",
       "      <td>114986.000000</td>\n",
       "      <td>114986.000000</td>\n",
       "      <td>114986.000000</td>\n",
       "    </tr>\n",
       "    <tr>\n",
       "      <th>mean</th>\n",
       "      <td>163.919841</td>\n",
       "      <td>84.316624</td>\n",
       "      <td>16.944104</td>\n",
       "      <td>14.733416</td>\n",
       "      <td>0.540979</td>\n",
       "      <td>0.565104</td>\n",
       "    </tr>\n",
       "    <tr>\n",
       "      <th>std</th>\n",
       "      <td>20.389275</td>\n",
       "      <td>2.258215</td>\n",
       "      <td>1.989265</td>\n",
       "      <td>5.059550</td>\n",
       "      <td>0.498320</td>\n",
       "      <td>0.495746</td>\n",
       "    </tr>\n",
       "    <tr>\n",
       "      <th>min</th>\n",
       "      <td>51.266031</td>\n",
       "      <td>26.443750</td>\n",
       "      <td>12.172501</td>\n",
       "      <td>1.005030</td>\n",
       "      <td>0.000000</td>\n",
       "      <td>0.000000</td>\n",
       "    </tr>\n",
       "    <tr>\n",
       "      <th>25%</th>\n",
       "      <td>148.001948</td>\n",
       "      <td>83.718750</td>\n",
       "      <td>15.677626</td>\n",
       "      <td>11.320726</td>\n",
       "      <td>0.000000</td>\n",
       "      <td>0.000000</td>\n",
       "    </tr>\n",
       "    <tr>\n",
       "      <th>50%</th>\n",
       "      <td>169.123918</td>\n",
       "      <td>84.753749</td>\n",
       "      <td>16.942125</td>\n",
       "      <td>14.662882</td>\n",
       "      <td>1.000000</td>\n",
       "      <td>1.000000</td>\n",
       "    </tr>\n",
       "    <tr>\n",
       "      <th>75%</th>\n",
       "      <td>175.751568</td>\n",
       "      <td>85.267499</td>\n",
       "      <td>18.208499</td>\n",
       "      <td>17.897948</td>\n",
       "      <td>1.000000</td>\n",
       "      <td>1.000000</td>\n",
       "    </tr>\n",
       "    <tr>\n",
       "      <th>max</th>\n",
       "      <td>239.537106</td>\n",
       "      <td>95.894998</td>\n",
       "      <td>23.459625</td>\n",
       "      <td>90.544580</td>\n",
       "      <td>1.000000</td>\n",
       "      <td>1.000000</td>\n",
       "    </tr>\n",
       "  </tbody>\n",
       "</table>\n",
       "</div>"
      ],
      "text/plain": [
       "       feed_flowrate          level   air_flowrate          valve  \\\n",
       "count  114986.000000  114986.000000  114986.000000  114986.000000   \n",
       "mean      163.919841      84.316624      16.944104      14.733416   \n",
       "std        20.389275       2.258215       1.989265       5.059550   \n",
       "min        51.266031      26.443750      12.172501       1.005030   \n",
       "25%       148.001948      83.718750      15.677626      11.320726   \n",
       "50%       169.123918      84.753749      16.942125      14.662882   \n",
       "75%       175.751568      85.267499      18.208499      17.897948   \n",
       "max       239.537106      95.894998      23.459625      90.544580   \n",
       "\n",
       "              fault1         fault2  \n",
       "count  114986.000000  114986.000000  \n",
       "mean        0.540979       0.565104  \n",
       "std         0.498320       0.495746  \n",
       "min         0.000000       0.000000  \n",
       "25%         0.000000       0.000000  \n",
       "50%         1.000000       1.000000  \n",
       "75%         1.000000       1.000000  \n",
       "max         1.000000       1.000000  "
      ]
     },
     "execution_count": 41,
     "metadata": {},
     "output_type": "execute_result"
    }
   ],
   "source": [
    "df.describe() #decriptive stats"
   ]
  },
  {
   "cell_type": "code",
   "execution_count": 42,
   "id": "0b55a3e1",
   "metadata": {},
   "outputs": [
    {
     "data": {
      "text/plain": [
       "Timestamp        0\n",
       "feed_flowrate    0\n",
       "level            0\n",
       "air_flowrate     0\n",
       "valve            0\n",
       "fault1           0\n",
       "fault2           0\n",
       "dtype: int64"
      ]
     },
     "execution_count": 42,
     "metadata": {},
     "output_type": "execute_result"
    }
   ],
   "source": [
    "df.isnull().sum() #confirm check for missing values"
   ]
  },
  {
   "cell_type": "markdown",
   "id": "4b520322",
   "metadata": {},
   "source": [
    "# Exploratory Data Analysis"
   ]
  },
  {
   "cell_type": "code",
   "execution_count": 43,
   "id": "175ba373",
   "metadata": {},
   "outputs": [
    {
     "data": {
      "image/png": "[encoded data removed]",
      "text/plain": [
       "<Figure size 432x288 with 2 Axes>"
      ]
     },
     "metadata": {
      "needs_background": "light"
     },
     "output_type": "display_data"
    }
   ],
   "source": [
    "sns.heatmap(df.corr(), annot=True, cmap = \"coolwarm\")\n",
    "plt.title(\"Correlation Matrix\")\n",
    "plt.show()"
   ]
  },
  {
   "cell_type": "code",
   "execution_count": 44,
   "id": "c0d3cf22",
   "metadata": {},
   "outputs": [
    {
     "data": {
      "text/plain": [
       "Timestamp        0\n",
       "feed_flowrate    0\n",
       "level            0\n",
       "air_flowrate     0\n",
       "valve            0\n",
       "fault1           0\n",
       "fault2           0\n",
       "dtype: int64"
      ]
     },
     "execution_count": 44,
     "metadata": {},
     "output_type": "execute_result"
    }
   ],
   "source": [
    "df.isnull().sum() #check for null values"
   ]
  },
  {
   "cell_type": "markdown",
   "id": "96e4a929",
   "metadata": {},
   "source": [
    "Fault2 (blockage in the tailings valves) seems to have a \"higher\"/stronger positive linear correlation with tailings valve opening (0.63). It also has a slightly positive linear correlation with feed_flowrate (0.43) as well. These could be great predictors for fault2 (blockage in the tailigns valves). \n",
    "\n",
    "An option later on could be to investigate if dropping the other predictors could improve runtime or have a negative bearing on the selected model\n",
    "\n",
    "The correlation matrix for fault1 (opening / closing of valve to control cell pulp level) illustrated low correlation with the 4 predictors (feed_flowrate, cell pulp level, air flowrate and tailings valve). \n",
    "\n",
    "Realtively low linear correlations amongst all the predictors (this is a good thing and this was (probably) likely to be expected)\n",
    "\n",
    "Note: df_corr returns the Pearson Correlation Coefficient NOT the R2 value. "
   ]
  },
  {
   "cell_type": "code",
   "execution_count": 45,
   "id": "986ebbe1",
   "metadata": {},
   "outputs": [
    {
     "data": {
      "text/plain": [
       "Index(['Timestamp', 'feed_flowrate', 'level', 'air_flowrate', 'valve',\n",
       "       'fault1', 'fault2'],\n",
       "      dtype='object')"
      ]
     },
     "execution_count": 45,
     "metadata": {},
     "output_type": "execute_result"
    }
   ],
   "source": [
    "df.columns"
   ]
  },
  {
   "cell_type": "code",
   "execution_count": 46,
   "id": "996f8e29",
   "metadata": {},
   "outputs": [],
   "source": [
    "X = df.drop(columns = [\"Timestamp\",\"fault1\", \"fault2\"])\n",
    "y1 = df[\"fault1\"]\n",
    "y2 = df[\"fault2\"]"
   ]
  },
  {
   "cell_type": "code",
   "execution_count": 47,
   "id": "c3b7552b",
   "metadata": {},
   "outputs": [
    {
     "data": {
      "text/plain": [
       "Index(['feed_flowrate', 'level', 'air_flowrate', 'valve'], dtype='object')"
      ]
     },
     "execution_count": 47,
     "metadata": {},
     "output_type": "execute_result"
    }
   ],
   "source": [
    "X.columns #confirm feature dataframe"
   ]
  },
  {
   "cell_type": "code",
   "execution_count": 48,
   "id": "b8262b41",
   "metadata": {},
   "outputs": [
    {
     "data": {
      "text/html": [
       "<div>\n",
       "<style scoped>\n",
       "    .dataframe tbody tr th:only-of-type {\n",
       "        vertical-align: middle;\n",
       "    }\n",
       "\n",
       "    .dataframe tbody tr th {\n",
       "        vertical-align: top;\n",
       "    }\n",
       "\n",
       "    .dataframe thead th {\n",
       "        text-align: right;\n",
       "    }\n",
       "</style>\n",
       "<table border=\"1\" class=\"dataframe\">\n",
       "  <thead>\n",
       "    <tr style=\"text-align: right;\">\n",
       "      <th></th>\n",
       "      <th>feed_flowrate</th>\n",
       "      <th>level</th>\n",
       "      <th>air_flowrate</th>\n",
       "      <th>valve</th>\n",
       "    </tr>\n",
       "  </thead>\n",
       "  <tbody>\n",
       "    <tr>\n",
       "      <th>0</th>\n",
       "      <td>149.175000</td>\n",
       "      <td>76.186249</td>\n",
       "      <td>17.190749</td>\n",
       "      <td>1.111165</td>\n",
       "    </tr>\n",
       "    <tr>\n",
       "      <th>1</th>\n",
       "      <td>149.429144</td>\n",
       "      <td>77.691251</td>\n",
       "      <td>17.347500</td>\n",
       "      <td>2.240384</td>\n",
       "    </tr>\n",
       "    <tr>\n",
       "      <th>2</th>\n",
       "      <td>149.575165</td>\n",
       "      <td>78.826248</td>\n",
       "      <td>17.347500</td>\n",
       "      <td>2.886613</td>\n",
       "    </tr>\n",
       "    <tr>\n",
       "      <th>3</th>\n",
       "      <td>149.440030</td>\n",
       "      <td>79.413750</td>\n",
       "      <td>17.347500</td>\n",
       "      <td>3.255154</td>\n",
       "    </tr>\n",
       "    <tr>\n",
       "      <th>4</th>\n",
       "      <td>149.472055</td>\n",
       "      <td>80.506250</td>\n",
       "      <td>17.356125</td>\n",
       "      <td>3.980078</td>\n",
       "    </tr>\n",
       "    <tr>\n",
       "      <th>5</th>\n",
       "      <td>149.575641</td>\n",
       "      <td>82.287498</td>\n",
       "      <td>17.328000</td>\n",
       "      <td>5.611198</td>\n",
       "    </tr>\n",
       "    <tr>\n",
       "      <th>6</th>\n",
       "      <td>149.507553</td>\n",
       "      <td>83.001251</td>\n",
       "      <td>17.317125</td>\n",
       "      <td>6.024781</td>\n",
       "    </tr>\n",
       "    <tr>\n",
       "      <th>7</th>\n",
       "      <td>149.448965</td>\n",
       "      <td>84.032498</td>\n",
       "      <td>17.269125</td>\n",
       "      <td>7.061505</td>\n",
       "    </tr>\n",
       "    <tr>\n",
       "      <th>8</th>\n",
       "      <td>149.415601</td>\n",
       "      <td>84.322501</td>\n",
       "      <td>17.329500</td>\n",
       "      <td>7.176516</td>\n",
       "    </tr>\n",
       "    <tr>\n",
       "      <th>9</th>\n",
       "      <td>149.377209</td>\n",
       "      <td>85.414998</td>\n",
       "      <td>17.479875</td>\n",
       "      <td>8.326157</td>\n",
       "    </tr>\n",
       "  </tbody>\n",
       "</table>\n",
       "</div>"
      ],
      "text/plain": [
       "   feed_flowrate      level  air_flowrate     valve\n",
       "0     149.175000  76.186249     17.190749  1.111165\n",
       "1     149.429144  77.691251     17.347500  2.240384\n",
       "2     149.575165  78.826248     17.347500  2.886613\n",
       "3     149.440030  79.413750     17.347500  3.255154\n",
       "4     149.472055  80.506250     17.356125  3.980078\n",
       "5     149.575641  82.287498     17.328000  5.611198\n",
       "6     149.507553  83.001251     17.317125  6.024781\n",
       "7     149.448965  84.032498     17.269125  7.061505\n",
       "8     149.415601  84.322501     17.329500  7.176516\n",
       "9     149.377209  85.414998     17.479875  8.326157"
      ]
     },
     "execution_count": 48,
     "metadata": {},
     "output_type": "execute_result"
    }
   ],
   "source": [
    "X.head(10)"
   ]
  },
  {
   "cell_type": "code",
   "execution_count": 49,
   "id": "b27d1eeb",
   "metadata": {},
   "outputs": [],
   "source": [
    "from sklearn.model_selection import train_test_split\n",
    "from sklearn.metrics import classification_report\n",
    "random_state = 52\n",
    "X1_train, X1_test, y1_train, y1_test = train_test_split(X,y1,test_size = 0.3, random_state = random_state)\n",
    "X2_train, X2_test, y2_train, y2_test = train_test_split(X,y2,test_size = 0.3, random_state = random_state)"
   ]
  },
  {
   "cell_type": "code",
   "execution_count": 50,
   "id": "066dff17",
   "metadata": {},
   "outputs": [
    {
     "name": "stdout",
     "output_type": "stream",
     "text": [
      "feed_flowrate    True\n",
      "level            True\n",
      "air_flowrate     True\n",
      "valve            True\n",
      "dtype: bool\n"
     ]
    }
   ],
   "source": [
    "print((X1_train == X2_train).all())\n",
    "\n",
    "#checking if the training sets are the same, not that it matters but just wanted to check if the use of the same seed  would yield the same training set"
   ]
  },
  {
   "cell_type": "code",
   "execution_count": 51,
   "id": "7baefab6",
   "metadata": {},
   "outputs": [],
   "source": [
    "# instanciation of selected models for evaluation \n",
    "# evaluating model perfomance using default hyperparameters \n",
    "#selected models are Logistic Regression and 4 ensemble models: Decision Tree, Random Forest, XGBoost and Gradient Boosting Classifieer\n",
    "\n",
    "from sklearn.linear_model import LogisticRegression\n",
    "from sklearn.tree import DecisionTreeClassifier\n",
    "from sklearn.ensemble import RandomForestClassifier, GradientBoostingClassifier\n",
    "from xgboost import XGBClassifier\n",
    "\n",
    "#scores kept changing during code evlauation even though I set the random_state in the train_test_split function. \n",
    "#So I have set the random seed when creating class instances of the models to ensure reproducibility of the results.\n",
    "#random_state was set in the train_test_split cell\n",
    "\n",
    "lr = LogisticRegression(random_state = random_state)\n",
    "dt = DecisionTreeClassifier(random_state = random_state)\n",
    "rf = RandomForestClassifier(random_state = random_state)\n",
    "gbc = GradientBoostingClassifier(random_state = random_state)\n",
    "xgb = XGBClassifier(random_state = random_state)\n",
    "\n",
    "\n",
    "# Having to use a dictionary so I can access the actual model objects later. \n",
    "models = {\"LogisticRegression\": lr,             #can not use naming like \"Decision Tree Classifier\" with spaces because model.__class__.name__ returns the actual name of the class which needs to be the same as dict key when accessing it for evaluting the best model\n",
    "          \"DecisionTreeClassifier\": dt,\n",
    "          \"RandomForestClassifier\": rf,\n",
    "          #\"GradientBoostingClassifier\": gbc,\n",
    "          #\"XGBClassifier\": xgb\n",
    "          }"
   ]
  },
  {
   "cell_type": "code",
   "execution_count": 52,
   "id": "911f5064",
   "metadata": {},
   "outputs": [],
   "source": [
    "from sklearn.model_selection import cross_val_score\n",
    "\n",
    "def compare_models(models, X_train, X_test, y_train, y_test):\n",
    "    \"\"\"\n",
    "    Evaluate multiple models and return their performance metrics.\n",
    "    \n",
    "    Parameters:\n",
    "    - models: Dictionary of model names and their instances.\n",
    "    - X_train: Training features.\n",
    "    - X_test: Testing features.\n",
    "    - y_train: Training labels.\n",
    "    - y_test: Testing labels.\n",
    "    \n",
    "    Returns:\n",
    "    - result_df: DataFrame containing model names and their F1 scores\n",
    "    - best_model_name: Name of the best model based on F1 score.\n",
    "    - best_model_f1_score: F1 score of the best model.\n",
    "    - best_model: The best model instance.\n",
    "    \"\"\"\n",
    "    \n",
    "\n",
    "    result = {}\n",
    "\n",
    "    for model in models.values():               #models.values() adopted after switching from list to dictionary\n",
    "        model.fit(X_train, y_train)             #fit the model to the training data\n",
    "        y_pred = model.predict(X_test)          #predict on the test data\n",
    "        report = classification_report(y_test, y_pred, output_dict = True) \n",
    "        result.update({model.__class__.__name__ : report[\"weighted avg\"][\"f1-score\"]})\n",
    "\n",
    "    result_dict = {\"models\": list(result.keys()),\n",
    "                \"f1-scores\": list(result.values())}\n",
    "    result_df = pd.DataFrame(result_dict).sort_values(by = \"f1-scores\", ascending = False)  #selected the weighted average of f1-score (mean of precision and recall) as the metric for evaluation, and weighted average takes into account distribution of classes.\n",
    "    result_df.reset_index(drop = True, inplace = True) #reset the index of the dataframe, drop old index\n",
    "    best_model_name = result_df.iloc[0,0]\n",
    "    best_model_f1_score = result_df.iloc[0,1]\n",
    "    best_model = models[best_model_name]\n",
    "    \n",
    "    return result_df, best_model_name, best_model_f1_score, best_model\n",
    "\n",
    "def evaluate_best_model(best_model, X_train, X_test, y_train,y_test):\n",
    "    \"\"\"\n",
    "    Evaluate the best model using classification report.\n",
    "    \n",
    "    Parameters:\n",
    "    - model: The best model instance.\n",
    "    - X_train: Training features.\n",
    "    - X_test: Testing features.\n",
    "    - y_train: Training labels.\n",
    "    - y_test: Testing labels.\n",
    "    \n",
    "    Returns:\n",
    "    - report: Classification report of the model.\n",
    "    \"\"\"\n",
    "    \n",
    "    best_model.fit(X_train, y_train)\n",
    "    y_pred = best_model.predict(X_test)\n",
    "    report = classification_report(y_test, y_pred, output_dict = True)\n",
    "    report_df = pd.DataFrame(report).T     \n",
    "    \n",
    "    return report_df\n",
    "    \n",
    "    "
   ]
  },
  {
   "cell_type": "code",
   "execution_count": 53,
   "id": "86d6e0b4",
   "metadata": {},
   "outputs": [],
   "source": [
    "from sklearn.model_selection import cross_val_score\n",
    "\n",
    "#evaluating the models\n",
    "def evaluate_models(models, X_train, X_test, y_train, y_test):\n",
    "    fault_model = compare_models(models, X_train,X_test,y_train,y_test)\n",
    "    result_df = fault_model[0]\n",
    "    print(\"-\" * 50)\n",
    "    print(result_df)\n",
    "    print(\"-\" * 50)\n",
    "    print(f\"The best model is { fault_model[1]} with an f-1 score of {round(fault_model[2],2)}\")\n",
    "    print(\"-\" * 50)\n",
    "    best_model = fault_model[3]\n",
    "    best_model_classification_report = evaluate_best_model(best_model, X_train,X_test,y_train,y_test)\n",
    "    individual_scores = cross_val_score(best_model, X_train, y_train, cv = 5)\n",
    "    print(f\"Individual Cross Valaidation Scores: {[round(score,2) for score in individual_scores]} with a mean of {round(individual_scores.mean(),2)}\")\n",
    "    print(\"-\" * 50)\n",
    "    return best_model, best_model_classification_report"
   ]
  },
  {
   "cell_type": "code",
   "execution_count": 54,
   "id": "589c4198",
   "metadata": {},
   "outputs": [
    {
     "name": "stdout",
     "output_type": "stream",
     "text": [
      "--------------------------------------------------\n",
      "                   models  f1-scores\n",
      "0  RandomForestClassifier   0.971084\n",
      "1  DecisionTreeClassifier   0.947718\n",
      "2      LogisticRegression   0.596513\n",
      "--------------------------------------------------\n",
      "The best model is RandomForestClassifier with an f-1 score of 0.97\n",
      "--------------------------------------------------\n",
      "Individual Cross Valaidation Scores: [0.97, 0.97, 0.97, 0.96, 0.97] with a mean of 0.97\n",
      "--------------------------------------------------\n"
     ]
    },
    {
     "data": {
      "text/plain": [
       "(RandomForestClassifier(random_state=52),\n",
       "               precision    recall  f1-score       support\n",
       " 0              0.962064  0.974717  0.968350  15663.000000\n",
       " 1              0.978741  0.968035  0.973358  18833.000000\n",
       " accuracy       0.971069  0.971069  0.971069      0.971069\n",
       " macro avg      0.970402  0.971376  0.970854  34496.000000\n",
       " weighted avg   0.971169  0.971069  0.971084  34496.000000)"
      ]
     },
     "execution_count": 54,
     "metadata": {},
     "output_type": "execute_result"
    }
   ],
   "source": [
    "#fault1\n",
    "\n",
    "evaluate_models(models, X1_train, X1_test, y1_train, y1_test)"
   ]
  },
  {
   "cell_type": "code",
   "execution_count": 55,
   "id": "ff0e0dc7",
   "metadata": {},
   "outputs": [
    {
     "name": "stdout",
     "output_type": "stream",
     "text": [
      "--------------------------------------------------\n",
      "                   models  f1-scores\n",
      "0  RandomForestClassifier   0.981282\n",
      "1  DecisionTreeClassifier   0.964406\n",
      "2      LogisticRegression   0.869402\n",
      "--------------------------------------------------\n",
      "The best model is RandomForestClassifier with an f-1 score of 0.98\n",
      "--------------------------------------------------\n",
      "Individual Cross Valaidation Scores: [0.97, 0.98, 0.98, 0.98, 0.98] with a mean of 0.98\n",
      "--------------------------------------------------\n"
     ]
    },
    {
     "data": {
      "text/plain": [
       "(RandomForestClassifier(random_state=52),\n",
       "               precision    recall  f1-score       support\n",
       " 0              0.974580  0.982515  0.978531  14984.000000\n",
       " 1              0.986488  0.980320  0.983394  19512.000000\n",
       " accuracy       0.981273  0.981273  0.981273      0.981273\n",
       " macro avg      0.980534  0.981417  0.980963  34496.000000\n",
       " weighted avg   0.981315  0.981273  0.981282  34496.000000)"
      ]
     },
     "execution_count": 55,
     "metadata": {},
     "output_type": "execute_result"
    }
   ],
   "source": [
    "#fault2\n",
    "\n",
    "evaluate_models(models, X2_train, X2_test, y2_train, y2_test)"
   ]
  },
  {
   "cell_type": "markdown",
   "id": "2c443cbe",
   "metadata": {},
   "source": [
    "# Commentary\n",
    "At this point the selected models seems adequate with High Precision, Recall and F1-Scores higher than 97%.   \n",
    "The models have also been evaluated using cross_val_score using 5 folds and attained acceptable classification metrics.   \n",
    "These will be adopted as the optimal models for further pipelining and deployment into production.   \n"
   ]
  },
  {
   "cell_type": "markdown",
   "id": "7fc7dbe2",
   "metadata": {},
   "source": [
    "# Improving Models\n",
    "\n",
    "In the event of poor model perfomance, a couple of options are available to experiment with. \n",
    "\n",
    "Before resorting to resorce intensive tuning, I could start of with pre-processing the data (scaling wasn't conducted earlier).   \n",
    "For example I will attempt to scale the feature set and use it to build another regressionlogistic model for fault 2 prediction (current F1-score ~  86%)"
   ]
  },
  {
   "cell_type": "code",
   "execution_count": 56,
   "id": "7ae05d69",
   "metadata": {},
   "outputs": [
    {
     "name": "stdout",
     "output_type": "stream",
     "text": [
      "--------------------------------------------------\n",
      "                   models  f1-scores\n",
      "0  RandomForestClassifier   0.980643\n",
      "1  DecisionTreeClassifier   0.962370\n",
      "2      LogisticRegression   0.869052\n",
      "--------------------------------------------------\n",
      "The best model is RandomForestClassifier with an f-1 score of 0.98\n",
      "--------------------------------------------------\n",
      "Individual Cross Valaidation Scores: [0.97, 0.98, 0.98, 0.98, 0.98] with a mean of 0.98\n",
      "--------------------------------------------------\n"
     ]
    },
    {
     "data": {
      "text/plain": [
       "(RandomForestClassifier(random_state=52),\n",
       "               precision    recall  f1-score       support\n",
       " 0              0.974480  0.981113  0.977785  14984.000000\n",
       " 1              0.985420  0.980269  0.982837  19512.000000\n",
       " accuracy       0.980635  0.980635  0.980635      0.980635\n",
       " macro avg      0.979950  0.980691  0.980311  34496.000000\n",
       " weighted avg   0.980668  0.980635  0.980643  34496.000000)"
      ]
     },
     "execution_count": 56,
     "metadata": {},
     "output_type": "execute_result"
    }
   ],
   "source": [
    "from sklearn.preprocessing import StandardScaler\n",
    "\n",
    "sc = StandardScaler()\n",
    "X2_train_scaled = sc.fit_transform(X2_train)\n",
    "X2_test_scaled = sc.fit_transform(X2_test)\n",
    "\n",
    "# fault2 models evaluation used scaled feature set\n",
    "\n",
    "evaluate_models(models, X2_train_scaled, X2_test_scaled, y2_train, y2_test)\n",
    "\n"
   ]
  },
  {
   "cell_type": "markdown",
   "id": "524bb46b",
   "metadata": {},
   "source": [
    "Scaling the featureset using standard scaler has not really improved the perfomance of the LogisticRegression model.  \n",
    "There is also no discernible benefit to the other models as well.   "
   ]
  },
  {
   "cell_type": "markdown",
   "id": "a3d9d1ac",
   "metadata": {},
   "source": [
    "# Further Improvements to Models\n",
    "\n",
    "Further improvements could be done to tune the models using models like GridSearchCv to attain incremental improvements to accuracy metrics. to illustrate this workflow I have devided to tune the Decision Tree Model using GridSearch\n"
   ]
  },
  {
   "cell_type": "code",
   "execution_count": 57,
   "id": "50896067",
   "metadata": {},
   "outputs": [],
   "source": [
    "from sklearn.model_selection import GridSearchCV\n",
    "\n",
    "param_grid = {\n",
    "    'criterion': [\"gini\", \"entropy\"],\n",
    "    'max_depth': [10, 20],\n",
    "}\n",
    "\n",
    "def model_grid_search(model, X_train, y_train, param_grid):\n",
    "    grid = GridSearchCV(estimator = model, param_grid = param_grid, scoring = 'f1_weighted', cv = 5, verbose  =2)\n",
    "    grid.fit(X_train, y_train)\n",
    "    return grid.best_params_"
   ]
  },
  {
   "cell_type": "code",
   "execution_count": 58,
   "id": "bb346a66",
   "metadata": {},
   "outputs": [
    {
     "name": "stdout",
     "output_type": "stream",
     "text": [
      "Fitting 5 folds for each of 4 candidates, totalling 20 fits\n",
      "[CV] END .......................criterion=gini, max_depth=10; total time=   0.2s\n",
      "[CV] END .......................criterion=gini, max_depth=10; total time=   0.2s\n",
      "[CV] END .......................criterion=gini, max_depth=10; total time=   0.2s\n",
      "[CV] END .......................criterion=gini, max_depth=10; total time=   0.1s\n",
      "[CV] END .......................criterion=gini, max_depth=10; total time=   0.2s\n",
      "[CV] END .......................criterion=gini, max_depth=20; total time=   0.2s\n",
      "[CV] END .......................criterion=gini, max_depth=20; total time=   0.2s\n",
      "[CV] END .......................criterion=gini, max_depth=20; total time=   0.2s\n",
      "[CV] END .......................criterion=gini, max_depth=20; total time=   0.2s\n",
      "[CV] END .......................criterion=gini, max_depth=20; total time=   0.2s\n",
      "[CV] END ....................criterion=entropy, max_depth=10; total time=   0.2s\n",
      "[CV] END ....................criterion=entropy, max_depth=10; total time=   0.2s\n",
      "[CV] END ....................criterion=entropy, max_depth=10; total time=   0.2s\n",
      "[CV] END ....................criterion=entropy, max_depth=10; total time=   0.2s\n",
      "[CV] END ....................criterion=entropy, max_depth=10; total time=   0.2s\n",
      "[CV] END ....................criterion=entropy, max_depth=20; total time=   0.4s\n",
      "[CV] END ....................criterion=entropy, max_depth=20; total time=   0.4s\n",
      "[CV] END ....................criterion=entropy, max_depth=20; total time=   0.4s\n",
      "[CV] END ....................criterion=entropy, max_depth=20; total time=   0.4s\n",
      "[CV] END ....................criterion=entropy, max_depth=20; total time=   0.4s\n"
     ]
    },
    {
     "data": {
      "text/plain": [
       "{'criterion': 'entropy', 'max_depth': 20}"
      ]
     },
     "execution_count": 58,
     "metadata": {},
     "output_type": "execute_result"
    }
   ],
   "source": [
    "model_grid_search(dt, X1_train, y1_train, param_grid = param_grid)"
   ]
  },
  {
   "cell_type": "code",
   "execution_count": 59,
   "id": "9f9ad565",
   "metadata": {},
   "outputs": [
    {
     "data": {
      "text/plain": [
       "(array([0.94278792, 0.94166977, 0.94216673, 0.94191825, 0.94632874]),\n",
       " 0.9429742825195676,\n",
       "               precision    recall  f1-score       support\n",
       " 0              0.938379  0.953776  0.946015  15663.000000\n",
       " 1              0.961025  0.947911  0.954423  18833.000000\n",
       " accuracy       0.950574  0.950574  0.950574      0.950574\n",
       " macro avg      0.949702  0.950843  0.950219  34496.000000\n",
       " weighted avg   0.950743  0.950574  0.950605  34496.000000)"
      ]
     },
     "execution_count": 59,
     "metadata": {},
     "output_type": "execute_result"
    }
   ],
   "source": [
    "dt_best_model = DecisionTreeClassifier(random_state = random_state, criterion = \"entropy\", max_depth = 20) # using best parameters from grid search\n",
    "\n",
    "def tuned_model_eval(model, X_train, X_test, y_train, y_test):\n",
    "    model.fit(X_train, y_train) \n",
    "    best_params_pred = model.predict(X_test)\n",
    "    best_params_report = classification_report(y_test, best_params_pred, output_dict = True)\n",
    "    best_params_report_df = pd.DataFrame(best_params_report).T\n",
    "    cross_val_scores = cross_val_score(dt_best_model,X_train, y_train, cv = 5)\n",
    "    cross_val_scores_mean = cross_val_scores.mean()\n",
    "    return (cross_val_scores, cross_val_scores_mean, best_params_report_df)\n",
    "\n",
    "#evaluating the tuned model using fault1 dataset\n",
    "\n",
    "tuned_model_eval(dt_best_model,X1_train, X1_test, y1_train, y1_test)\n"
   ]
  },
  {
   "cell_type": "markdown",
   "id": "856cdefb",
   "metadata": {},
   "source": [
    "# Commentary\n",
    "\n",
    "Tuning the Decision Tree Classifier has resulted in a marginal increase in the weighted average of the f1-score to about 95% from 94% as obtaiend from the previous training. The average of f1-scores from cross validation (5 folds) = 94%, similar to the default decision tree model (dt  = DecisionTreeClassifier(random_state = random_state)). Parameter tuning has not yielded much, but also given the already high metrics obtained from the default model, not much improvement was expected and in fact could have resulted in overfitting the data, potentially leading to an inability to generalise adequately"
   ]
  }
 ],
 "metadata": {
  "kernelspec": {
   "display_name": "venv_mintek_ml",
   "language": "python",
   "name": "python3"
  },
  "language_info": {
   "codemirror_mode": {
    "name": "ipython",
    "version": 3
   },
   "file_extension": ".py",
   "mimetype": "text/x-python",
   "name": "python",
   "nbconvert_exporter": "python",
   "pygments_lexer": "ipython3",
   "version": "3.6.5"
  }
 },
 "nbformat": 4,
 "nbformat_minor": 5
}
